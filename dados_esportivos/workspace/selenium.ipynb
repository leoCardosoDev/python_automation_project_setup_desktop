{
 "cells": [
  {
   "cell_type": "code",
   "execution_count": 8,
   "metadata": {},
   "outputs": [],
   "source": [
    "from selenium import webdriver\n",
    "from selenium.webdriver.chrome.service import Service\n",
    "from selenium.webdriver.chrome.options import Options\n",
    "from webdriver_manager.chrome import ChromeDriverManager"
   ]
  },
  {
   "cell_type": "code",
   "execution_count": 9,
   "metadata": {},
   "outputs": [
    {
     "name": "stdout",
     "output_type": "stream",
     "text": [
      "Google\n"
     ]
    }
   ],
   "source": [
    "# Configurar opções (opcional, mas recomendado para definir comportamentos do navegador)\n",
    "chrome_options = Options()\n",
    "chrome_options.add_argument(\"--no-sandbox\") # Segurança\n",
    "chrome_options.add_argument(\"--headless\")   # Executar sem abrir janela (modo headless)\n",
    "chrome_options.add_argument(\"--disable-gpu\") # Desabilitar GPU\n",
    "chrome_options.add_argument(\"--disable-dev-shm-usage\") # Evitar problemas de espaço compartilhado\n",
    "\n",
    "# Serviço do WebDriver\n",
    "service = Service(ChromeDriverManager().install())\n",
    "\n",
    "# Inicializar o WebDriver com as opções e serviço configurado\n",
    "driver = webdriver.Chrome(service=service, options=chrome_options)\n",
    "\n",
    "# Agora você pode usar o driver para interagir com páginas da web.\n",
    "driver.get(\"https://www.google.com\")\n",
    "print(driver.title)\n",
    "\n",
    "# Não esquecer de encerrar o driver quando terminar\n",
    "driver.quit()"
   ]
  }
 ],
 "metadata": {
  "kernelspec": {
   "display_name": "Python 3",
   "language": "python",
   "name": "python3"
  },
  "language_info": {
   "codemirror_mode": {
    "name": "ipython",
    "version": 3
   },
   "file_extension": ".py",
   "mimetype": "text/x-python",
   "name": "python",
   "nbconvert_exporter": "python",
   "pygments_lexer": "ipython3",
   "version": "3.12.4"
  }
 },
 "nbformat": 4,
 "nbformat_minor": 2
}
