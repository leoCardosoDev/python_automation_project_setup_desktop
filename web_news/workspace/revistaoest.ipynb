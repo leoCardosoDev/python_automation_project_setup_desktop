{
 "cells": [
  {
   "cell_type": "code",
   "execution_count": 16,
   "metadata": {},
   "outputs": [],
   "source": [
    "import requests\n",
    "from bs4 import BeautifulSoup\n",
    "\n",
    "class SiteNoticias:\n",
    "    def __init__(self, site, class_names):\n",
    "        self.site = site\n",
    "        self.class_names = class_names\n",
    "        self.news = {}\n",
    "\n",
    "    def update_news(self, url):\n",
    "        headers = {\n",
    "            \"User-Agent\": \"Mozilla/5.0 (iPhone; CPU iPhone OS 14_2 like Mac OS X) AppleWebKit/537.36 (KHTML, like Gecko) Version/14.0 Mobile/15E148 Safari/537.36\"\n",
    "        }\n",
    "        \n",
    "        try:\n",
    "            response = requests.get(url, headers=headers)\n",
    "            response.raise_for_status()  # Levanta erro se o status não for 200\n",
    "        except requests.exceptions.RequestException as e:\n",
    "            print(f\"Erro ao acessar {url}: {e}\")\n",
    "            return\n",
    "\n",
    "        soup = BeautifulSoup(response.text, \"html.parser\")\n",
    "        for class_name in self.class_names:\n",
    "            noticias = soup.find_all(\"a\", class_=class_name)\n",
    "            for noticia in noticias:\n",
    "                titulo = noticia.text.strip()\n",
    "                link = noticia.get(\"href\")\n",
    "                if titulo and link:\n",
    "                    self.news[titulo] = link\n",
    "\n"
   ]
  },
  {
   "cell_type": "code",
   "execution_count": 18,
   "metadata": {},
   "outputs": [],
   "source": [
    "# Executar\n",
    "revista_oeste = SiteNoticias(\n",
    "    site=\"Revista Oeste\",\n",
    "    class_names=[\"card-post__title text-lg leading-6 lg:text-3.5xl font-semibold stretched-link mb-2\"]\n",
    ")\n",
    "\n",
    "revista_oeste.update_news(\"https://revistaoeste.com/\")\n",
    "\n",
    "# Exibir notícias coletadas\n",
    "for title, link in revista_oeste.news.items():\n",
    "    print(f\"Title: {title}\\nLink: {link}\\n\")\n"
   ]
  }
 ],
 "metadata": {
  "kernelspec": {
   "display_name": "Python 3",
   "language": "python",
   "name": "python3"
  },
  "language_info": {
   "codemirror_mode": {
    "name": "ipython",
    "version": 3
   },
   "file_extension": ".py",
   "mimetype": "text/x-python",
   "name": "python",
   "nbconvert_exporter": "python",
   "pygments_lexer": "ipython3",
   "version": "3.12.4"
  }
 },
 "nbformat": 4,
 "nbformat_minor": 2
}
